{
  "nbformat": 4,
  "nbformat_minor": 0,
  "metadata": {
    "colab": {
      "name": "Captcha_Recognition.ipynb",
      "provenance": [],
      "collapsed_sections": [],
      "toc_visible": true
    },
    "kernelspec": {
      "name": "python3",
      "display_name": "Python 3"
    },
    "accelerator": "GPU"
  },
  "cells": [
    {
      "cell_type": "markdown",
      "metadata": {
        "id": "0E4sAbkwqsL9",
        "colab_type": "text"
      },
      "source": [
        "# Captcha Recognition #\n",
        "To solve this problem, we found the dataset on kaggle. We first made an attempt to make a CNN from scratch, and after mediocre results and great difficulty, decided to use a tool we learned in class, fine-tuning a pretrained model. We first uploaded the dataset to a github repository and then created a custom class to make a DataLoader out of it. \n",
        "We used a multilabel classifier, dividing the output into a flattened 5*36 array, as each image had 5 character and each character could be any lowercase letter or number(adding up to 36).\n",
        "\n",
        "To calculate the accuracy, we used two metrics:\n",
        "\n",
        "\n",
        "1.   The percentage of perfect guesses\n",
        "2.   The percentage of correct character guesses\n",
        "\n",
        "The results were quite good considering our level of expertise. The percentage of characters guessed correctly came out to 94.58% and the percentage of perfect guesses was 79.16% on our test set.\n",
        "\n",
        "\n",
        "Link: https://www.kaggle.com/fournierp/captcha-version-2-images\n",
        "\n"
      ]
    },
    {
      "cell_type": "markdown",
      "metadata": {
        "id": "GC9WF6oy0Tdn",
        "colab_type": "text"
      },
      "source": [
        "## Notebook Setup and Loading Data\n",
        "\n",
        "*   Ensuring that GPU is available. It is required for the purposes of this assignment in order to maintain a manageable speed.\n",
        "*   Downloading and unzipping the Dataset from hosted github repo\n",
        "\n",
        "* Importing all the required libraries\n"
      ]
    },
    {
      "cell_type": "code",
      "metadata": {
        "id": "HR8IjpxQJ4vt",
        "colab_type": "code",
        "outputId": "87d57667-1601-4d8f-b77c-6526ae6fd3b4",
        "colab": {
          "base_uri": "https://localhost:8080/",
          "height": 34
        }
      },
      "source": [
        "import torch\n",
        "torch.cuda.is_available()"
      ],
      "execution_count": 0,
      "outputs": [
        {
          "output_type": "execute_result",
          "data": {
            "text/plain": [
              "True"
            ]
          },
          "metadata": {
            "tags": []
          },
          "execution_count": 1
        }
      ]
    },
    {
      "cell_type": "code",
      "metadata": {
        "id": "Dq8VibiPJ9t4",
        "colab_type": "code",
        "colab": {}
      },
      "source": [
        "%%capture\n",
        "!wget \"https://github.com/sg2nq/CaptchaDataset/raw/master/captcha-version-2-images.zip\"\n",
        "!unzip /content/captcha-version-2-images.zip"
      ],
      "execution_count": 0,
      "outputs": []
    },
    {
      "cell_type": "code",
      "metadata": {
        "id": "RsWCeX9-JnwS",
        "colab_type": "code",
        "colab": {}
      },
      "source": [
        "from __future__ import print_function, division\n",
        "\n",
        "import torch\n",
        "import torch.nn as nn\n",
        "import torch.optim as optim\n",
        "from torch.optim import lr_scheduler\n",
        "import numpy as np\n",
        "import torchvision\n",
        "from torch.utils.data import DataLoader, Dataset\n",
        "from torchvision import datasets, models, transforms\n",
        "import matplotlib.pyplot as plt\n",
        "import time\n",
        "import os\n",
        "import copy\n",
        "from torch.utils.data.sampler import SubsetRandomSampler\n",
        "from PIL import Image\n",
        "from torch.autograd import Variable\n",
        "import random\n",
        "import copy\n",
        "import pandas as pd\n",
        "\n",
        "plt.ion()\n"
      ],
      "execution_count": 0,
      "outputs": []
    },
    {
      "cell_type": "markdown",
      "metadata": {
        "id": "4n5sEVW50-4g",
        "colab_type": "text"
      },
      "source": [
        "## Preprocessing and Visualizing\n",
        "\n",
        "\n",
        "*   Defines the custom Dataset Class which creates labels for the input images and sets some variables\n",
        "*   Transforming Data into the required input format for the neural network\n",
        "* Creating PyTorch Data Loaders for the data split into Training, Testing and Validation sets\n",
        "* Visualizing a sample from processed data\n",
        "\n"
      ]
    },
    {
      "cell_type": "code",
      "metadata": {
        "id": "wFu2Wb0kK3a1",
        "colab_type": "code",
        "colab": {}
      },
      "source": [
        "len_captcha = 5\n",
        "categories = [char for char in \"abcdefghijklmnopqrstuvwxyz0123456789\"*len_captcha]\n",
        "len_chars = len(\"abcdefghijklmnopqrstuvwxyz0123456789\")\n",
        "class CharacterDataset(Dataset):\n",
        "  def __init__(self, path, transform=None):\n",
        "    self.path = path\n",
        "    self.img = os.listdir(self.path)\n",
        "    self.transform = transform\n",
        "    \n",
        "  def __getitem__(self, idx):\n",
        "    # Image conversion code was learned from PIL documentation\n",
        "    img_path = self.img[idx]\n",
        "    img = Image.open(os.path.join(self.path, img_path))\n",
        "    img = img.convert('L')\n",
        "    label_text = img_path.split('.')[0]\n",
        "    label_arr = [0]*len(categories)\n",
        "    for i, char in enumerate(label_text):\n",
        "      pos = categories[i*len_chars:(i+1)*len_chars].index(char) + i*len_chars\n",
        "      label_arr[pos] = 1\n",
        "    img = self.transform(img)\n",
        "    return img, np.array(label_arr), label_text\n",
        "  \n",
        "  def __len__(self):\n",
        "    return len(self.img)\n"
      ],
      "execution_count": 0,
      "outputs": []
    },
    {
      "cell_type": "code",
      "metadata": {
        "id": "D5AuKiBNMDF8",
        "colab_type": "code",
        "colab": {}
      },
      "source": [
        "data_transforms = transforms.Compose([\n",
        "        transforms.CenterCrop(224), \n",
        "        transforms.ToTensor(), \n",
        "    ])\n",
        "\n",
        "image_datasets = CharacterDataset('./samples/samples', transform=data_transforms)\n",
        "\n",
        "indices = list(range(len(image_datasets)))\n",
        "random.shuffle(indices)\n",
        "split = int(np.floor(0.7 * len(image_datasets)))\n",
        "train_idx, valid_idx = indices[:split], indices[split:]\n",
        "split = int(np.floor(0.3 * len(valid_idx)))\n",
        "valid_idx, test_idx = valid_idx[split:], valid_idx[:split]\n",
        "train_sampler = SubsetRandomSampler(train_idx)\n",
        "valid_sampler = SubsetRandomSampler(valid_idx)\n",
        "test_sampler = SubsetRandomSampler(test_idx)\n",
        "\n",
        "\n",
        "train_dl = DataLoader(image_datasets, batch_size=64, num_workers=0, sampler = train_sampler)\n",
        "val_dl = DataLoader(image_datasets, batch_size=64, num_workers=0, sampler = valid_sampler)\n",
        "test_dl = DataLoader(image_datasets, batch_size=1, num_workers=0, sampler = test_sampler)\n"
      ],
      "execution_count": 0,
      "outputs": []
    },
    {
      "cell_type": "code",
      "metadata": {
        "id": "sOBD4AlRmCIa",
        "colab_type": "code",
        "outputId": "690c090b-c3df-441e-9363-659c66c82fd2",
        "colab": {
          "base_uri": "https://localhost:8080/",
          "height": 34
        }
      },
      "source": [
        "print(len(train_idx), len(valid_idx), len(test_idx))"
      ],
      "execution_count": 0,
      "outputs": [
        {
          "output_type": "stream",
          "text": [
            "749 225 96\n"
          ],
          "name": "stdout"
        }
      ]
    },
    {
      "cell_type": "code",
      "metadata": {
        "id": "08GgnZvPPa8g",
        "colab_type": "code",
        "outputId": "bb139bad-cc2b-4e84-fe9d-e0712eedd183",
        "colab": {
          "base_uri": "https://localhost:8080/",
          "height": 366
        }
      },
      "source": [
        "def imshow(inp, title=None):\n",
        "    \"\"\"Imshow for Tensor.\"\"\"\n",
        "    inp = np.clip(inp, 0, 1)\n",
        "    plt.imshow(inp)\n",
        "    if title is not None:\n",
        "        plt.title(title)\n",
        "    plt.pause(0.001)  # pause a bit so that plots are updated\n",
        "\n",
        "\n",
        "inputs, labels, label_test = next(iter(image_datasets))\n",
        "i = 0 \n",
        "output = \"\"\n",
        "print(labels)\n",
        "for k in range(len(labels)):\n",
        "  if labels[k] == 1:\n",
        "    output += categories[k]\n",
        "imshow(inputs[i], title=output)\n",
        "\n"
      ],
      "execution_count": 0,
      "outputs": [
        {
          "output_type": "stream",
          "text": [
            "[0 0 0 0 0 0 0 0 0 0 0 0 0 0 0 0 0 0 0 0 0 0 0 0 0 0 0 0 0 0 0 0 1 0 0 0 0\n",
            " 0 0 0 0 0 0 0 0 0 0 0 0 1 0 0 0 0 0 0 0 0 0 0 0 0 0 0 0 0 0 0 0 0 0 0 0 0\n",
            " 0 0 0 0 1 0 0 0 0 0 0 0 0 0 0 0 0 0 0 0 0 0 0 0 0 0 0 0 0 0 0 0 0 0 0 0 0\n",
            " 0 0 0 0 0 0 0 0 0 0 0 0 0 0 0 0 0 0 0 0 0 0 0 0 0 0 0 0 0 1 0 0 0 0 0 0 0\n",
            " 0 0 0 0 0 0 0 0 0 0 0 0 0 0 0 0 0 0 1 0 0 0 0 0 0 0 0 0 0 0 0 0]\n"
          ],
          "name": "stdout"
        },
        {
          "output_type": "display_data",
          "data": {
            "image/png": "[encoded data removed]",
            "text/plain": [
              "<Figure size 432x288 with 1 Axes>"
            ]
          },
          "metadata": {
            "tags": []
          }
        }
      ]
    },
    {
      "cell_type": "markdown",
      "metadata": {
        "id": "3oF2yveW1ri7",
        "colab_type": "text"
      },
      "source": [
        "## Creating, Training and Visualizing model\n",
        "\n",
        "* Downloading a pretrained ResNet18 \n",
        "* Editing the input layer to take grayscale images\n",
        "* Adding a linear as output\n",
        "* Training the model using the Adam optimizer and Multi Label Soft Margin Loss function\n",
        "* Visualizing the loss and comparison of training and validation accuracy using the absolute correctness metric\n",
        "* Visualizing the final model\n",
        "\n"
      ]
    },
    {
      "cell_type": "code",
      "metadata": {
        "id": "a1KdCRPMNjVt",
        "colab_type": "code",
        "outputId": "b5f4b9ae-3668-4234-81d5-3fe7e95fe509",
        "colab": {
          "base_uri": "https://localhost:8080/",
          "height": 51
        }
      },
      "source": [
        "model = models.resnet18(pretrained=True)\n",
        "# The idea of making this layer came from the complication that the input images were grayscale\n",
        "# The remainder of the settings, aside from the number of channels, was copied from resnet\n",
        "model.conv1 = nn.Conv2d(1, 64, kernel_size=(7, 7), stride=(2, 2), padding=(3, 3), bias=False)\n",
        "model.fc = nn.Linear(in_features=model.fc.in_features, out_features=len(categories), bias=True)\n",
        "criterion = nn.MultiLabelSoftMarginLoss() # https://pytorch.org/docs/stable/nn.html#multilabelsoftmarginloss\n",
        "# seemed more fitting than BCEWithLogitsLoss but is the same thing\n",
        "\n",
        "optimizer = torch.optim.Adam(model.parameters(), lr=0.001)\n",
        "\n",
        "model.cuda();\n"
      ],
      "execution_count": 0,
      "outputs": [
        {
          "output_type": "stream",
          "text": [
            "Downloading: \"https://download.pytorch.org/models/resnet18-5c106cde.pth\" to /root/.cache/torch/checkpoints/resnet18-5c106cde.pth\n",
            "100%|██████████| 44.7M/44.7M [00:00<00:00, 105MB/s]\n"
          ],
          "name": "stderr"
        }
      ]
    },
    {
      "cell_type": "code",
      "metadata": {
        "id": "7Qpk9-UfUJgZ",
        "colab_type": "code",
        "colab": {}
      },
      "source": [
        "def train_model(classifier, criterion, optimizer, \n",
        "                trainLoader, valLoader, n_epochs = 50):\n",
        "  classifier = classifier.cuda()\n",
        "  classifier.train()\n",
        "  training_accuracy = []\n",
        "  validation_accuracy = []\n",
        "  loss_list = []\n",
        "  best_model_wts = copy.deepcopy(classifier.state_dict())\n",
        "  best_acc = 0.0\n",
        "\n",
        "  for epoch in range(0, n_epochs):\n",
        "    print('Epoch {}/{}'.format(epoch, n_epochs - 1))\n",
        "    print('-' * 10)\n",
        "    classifier.train()\n",
        "    correct = 0\n",
        "    for x, y, label in trainLoader:\n",
        "      # x = torch.reshape(x, (4, 3, 224, 224))\n",
        "      x = Variable(x).cuda()\n",
        "      y = Variable(y).cuda()\n",
        "      yhat = classifier(x)\n",
        "      loss = criterion(yhat, y)\n",
        "      optimizer.zero_grad()      \n",
        "      loss.backward()\n",
        "      optimizer.step() # We can also use this utility from pytorch.\n",
        "\n",
        "      with torch.no_grad():  # Stop recording operations for gradient computation.\n",
        "        # Perfect prediction accuracy\n",
        "        for k in range(len(yhat)): \n",
        "          temp_yhat = yhat[k].squeeze().cpu().tolist()\n",
        "          pred = categories[np.argmax(temp_yhat[0*len_chars:1*len_chars])]\n",
        "          pred += categories[np.argmax(temp_yhat[1*len_chars:2*len_chars])]\n",
        "          pred += categories[np.argmax(temp_yhat[2*len_chars:3*len_chars])]\n",
        "          pred += categories[np.argmax(temp_yhat[3*len_chars:4*len_chars])]\n",
        "          pred += categories[np.argmax(temp_yhat[4*len_chars:])]\n",
        "          # print(pred, label[k])\n",
        "          if pred == label[k]:\n",
        "            correct+=1\n",
        "      classifier.train()\n",
        "\n",
        "    n = len(train_idx)\n",
        "    training_accuracy.append(correct / n)\n",
        "    classifier.eval()\n",
        "    correct = 0\n",
        "    with torch.no_grad():\n",
        "      for x, y, label in valLoader:\n",
        "        # if x.shape != torch.Size([2, 1, 3, 224, 224]):\n",
        "          # x = torch.reshape(x, (4, 3, 224, 224))\n",
        "        x = Variable(x).cuda()\n",
        "        y = Variable(y).cuda()\n",
        "        yhat = classifier(x)\n",
        "        for k in range(len(yhat)): \n",
        "          temp_yhat = yhat[k].squeeze().cpu().tolist()\n",
        "          pred = categories[np.argmax(temp_yhat[0*len_chars:1*len_chars])]\n",
        "          pred += categories[np.argmax(temp_yhat[1*len_chars:2*len_chars])]\n",
        "          pred += categories[np.argmax(temp_yhat[2*len_chars:3*len_chars])]\n",
        "          pred += categories[np.argmax(temp_yhat[3*len_chars:4*len_chars])]\n",
        "          pred += categories[np.argmax(temp_yhat[4*len_chars:])]\n",
        "          # print(pred, label[k])\n",
        "          if pred == label[k]:\n",
        "            correct+=1\n",
        "    n = len(valid_idx)\n",
        "    loss_list.append(loss.item())\n",
        "    validation_accuracy.append(correct / n)\n",
        "    print(\"Loss : {}, Training Accuracy: {}, Validation Accuracy: {}\".format(\n",
        "        loss_list[epoch], training_accuracy[epoch], validation_accuracy[epoch]))\n",
        "\n",
        "  acc_df=pd.DataFrame({'x': range(0, len(training_accuracy)), 'y1': training_accuracy, 'y2': validation_accuracy})\n",
        "  \n",
        "  # multiple line plot\n",
        "  plt.plot( 'x', 'y1', data=acc_df, marker='o', markerfacecolor='blue', markersize=2, color='skyblue', linewidth=1, label=\"Training Accuracy\")\n",
        "  plt.plot( 'x', 'y2', data=acc_df, marker='o', markerfacecolor='red', markersize=2, color='pink', linewidth=1, label=\"Validation Accuracy\")\n",
        "  plt.legend()\n",
        "  plt.show()\n",
        "\n",
        "\n",
        "  return classifier, loss_list"
      ],
      "execution_count": 0,
      "outputs": []
    },
    {
      "cell_type": "code",
      "metadata": {
        "id": "dJSrdj_hXEtH",
        "colab_type": "code",
        "outputId": "6e465077-d2c9-41c0-d616-90858e94a6c9",
        "colab": {
          "base_uri": "https://localhost:8080/",
          "height": 1000
        }
      },
      "source": [
        "model_ft, loss_list = train_model(model, criterion, optimizer, train_dl, val_dl, n_epochs=100)\n",
        "\n",
        "# Please scroll to the bottom of the run if you would like to see the \n",
        "# training vs validation accuracy graph"
      ],
      "execution_count": 0,
      "outputs": [
        {
          "output_type": "stream",
          "text": [
            "Epoch 0/99\n",
            "----------\n",
            "Loss : 0.1259913146495819, Training Accuracy: 0.0, Validation Accuracy: 0.0\n",
            "Epoch 1/99\n",
            "----------\n",
            "Loss : 0.11321370303630829, Training Accuracy: 0.0, Validation Accuracy: 0.0\n",
            "Epoch 2/99\n",
            "----------\n",
            "Loss : 0.10914972424507141, Training Accuracy: 0.0, Validation Accuracy: 0.0\n",
            "Epoch 3/99\n",
            "----------\n",
            "Loss : 0.10853500664234161, Training Accuracy: 0.0, Validation Accuracy: 0.0\n",
            "Epoch 4/99\n",
            "----------\n",
            "Loss : 0.10785544663667679, Training Accuracy: 0.0, Validation Accuracy: 0.0\n",
            "Epoch 5/99\n",
            "----------\n",
            "Loss : 0.10347790271043777, Training Accuracy: 0.0, Validation Accuracy: 0.0\n",
            "Epoch 6/99\n",
            "----------\n",
            "Loss : 0.09913598746061325, Training Accuracy: 0.0, Validation Accuracy: 0.0\n",
            "Epoch 7/99\n",
            "----------\n",
            "Loss : 0.08942053467035294, Training Accuracy: 0.0, Validation Accuracy: 0.0\n",
            "Epoch 8/99\n",
            "----------\n",
            "Loss : 0.08462736755609512, Training Accuracy: 0.0026702269692923898, Validation Accuracy: 0.0\n",
            "Epoch 9/99\n",
            "----------\n",
            "Loss : 0.07255785912275314, Training Accuracy: 0.017356475300400534, Validation Accuracy: 0.0\n",
            "Epoch 10/99\n",
            "----------\n",
            "Loss : 0.06573578715324402, Training Accuracy: 0.05473965287049399, Validation Accuracy: 0.0044444444444444444\n",
            "Epoch 11/99\n",
            "----------\n",
            "Loss : 0.056323423981666565, Training Accuracy: 0.1321762349799733, Validation Accuracy: 0.0044444444444444444\n",
            "Epoch 12/99\n",
            "----------\n",
            "Loss : 0.047680336982011795, Training Accuracy: 0.308411214953271, Validation Accuracy: 0.008888888888888889\n",
            "Epoch 13/99\n",
            "----------\n",
            "Loss : 0.038859773427248, Training Accuracy: 0.5033377837116155, Validation Accuracy: 0.07555555555555556\n",
            "Epoch 14/99\n",
            "----------\n",
            "Loss : 0.03073166310787201, Training Accuracy: 0.7076101468624834, Validation Accuracy: 0.1288888888888889\n",
            "Epoch 15/99\n",
            "----------\n",
            "Loss : 0.025239484384655952, Training Accuracy: 0.8491321762349799, Validation Accuracy: 0.14666666666666667\n",
            "Epoch 16/99\n",
            "----------\n",
            "Loss : 0.022534091025590897, Training Accuracy: 0.9185580774365821, Validation Accuracy: 0.17777777777777778\n",
            "Epoch 17/99\n",
            "----------\n",
            "Loss : 0.01729618012905121, Training Accuracy: 0.9599465954606141, Validation Accuracy: 0.1688888888888889\n",
            "Epoch 18/99\n",
            "----------\n",
            "Loss : 0.015301323495805264, Training Accuracy: 0.9959946595460614, Validation Accuracy: 0.2577777777777778\n",
            "Epoch 19/99\n",
            "----------\n",
            "Loss : 0.011677177622914314, Training Accuracy: 0.9986648865153538, Validation Accuracy: 0.3288888888888889\n",
            "Epoch 20/99\n",
            "----------\n",
            "Loss : 0.009647002443671227, Training Accuracy: 1.0, Validation Accuracy: 0.3333333333333333\n",
            "Epoch 21/99\n",
            "----------\n",
            "Loss : 0.009118004702031612, Training Accuracy: 0.9986648865153538, Validation Accuracy: 0.4488888888888889\n",
            "Epoch 22/99\n",
            "----------\n",
            "Loss : 0.007613364607095718, Training Accuracy: 1.0, Validation Accuracy: 0.4666666666666667\n",
            "Epoch 23/99\n",
            "----------\n",
            "Loss : 0.006467982195317745, Training Accuracy: 1.0, Validation Accuracy: 0.48444444444444446\n",
            "Epoch 24/99\n",
            "----------\n",
            "Loss : 0.0057750968262553215, Training Accuracy: 1.0, Validation Accuracy: 0.4666666666666667\n",
            "Epoch 25/99\n",
            "----------\n",
            "Loss : 0.005209963768720627, Training Accuracy: 1.0, Validation Accuracy: 0.49777777777777776\n",
            "Epoch 26/99\n",
            "----------\n",
            "Loss : 0.004719809163361788, Training Accuracy: 1.0, Validation Accuracy: 0.56\n",
            "Epoch 27/99\n",
            "----------\n",
            "Loss : 0.003962771035730839, Training Accuracy: 1.0, Validation Accuracy: 0.6\n",
            "Epoch 28/99\n",
            "----------\n",
            "Loss : 0.0042256698943674564, Training Accuracy: 1.0, Validation Accuracy: 0.6\n",
            "Epoch 29/99\n",
            "----------\n",
            "Loss : 0.003239645389840007, Training Accuracy: 1.0, Validation Accuracy: 0.6088888888888889\n",
            "Epoch 30/99\n",
            "----------\n",
            "Loss : 0.002885505324229598, Training Accuracy: 1.0, Validation Accuracy: 0.5955555555555555\n",
            "Epoch 31/99\n",
            "----------\n",
            "Loss : 0.002691104542464018, Training Accuracy: 1.0, Validation Accuracy: 0.6533333333333333\n",
            "Epoch 32/99\n",
            "----------\n",
            "Loss : 0.0023219555150717497, Training Accuracy: 1.0, Validation Accuracy: 0.6133333333333333\n",
            "Epoch 33/99\n",
            "----------\n",
            "Loss : 0.002337260404601693, Training Accuracy: 1.0, Validation Accuracy: 0.6133333333333333\n",
            "Epoch 34/99\n",
            "----------\n",
            "Loss : 0.0021671715658158064, Training Accuracy: 1.0, Validation Accuracy: 0.6577777777777778\n",
            "Epoch 35/99\n",
            "----------\n",
            "Loss : 0.0019232237245887518, Training Accuracy: 1.0, Validation Accuracy: 0.6444444444444445\n",
            "Epoch 36/99\n",
            "----------\n",
            "Loss : 0.0017422570381313562, Training Accuracy: 1.0, Validation Accuracy: 0.6355555555555555\n",
            "Epoch 37/99\n",
            "----------\n",
            "Loss : 0.001884166500531137, Training Accuracy: 1.0, Validation Accuracy: 0.6533333333333333\n",
            "Epoch 38/99\n",
            "----------\n",
            "Loss : 0.0016488455003127456, Training Accuracy: 1.0, Validation Accuracy: 0.6488888888888888\n",
            "Epoch 39/99\n",
            "----------\n",
            "Loss : 0.0016292034415528178, Training Accuracy: 1.0, Validation Accuracy: 0.6711111111111111\n",
            "Epoch 40/99\n",
            "----------\n",
            "Loss : 0.0016897856257855892, Training Accuracy: 1.0, Validation Accuracy: 0.64\n",
            "Epoch 41/99\n",
            "----------\n",
            "Loss : 0.0013823239132761955, Training Accuracy: 1.0, Validation Accuracy: 0.6844444444444444\n",
            "Epoch 42/99\n",
            "----------\n",
            "Loss : 0.0012368409661576152, Training Accuracy: 1.0, Validation Accuracy: 0.6488888888888888\n",
            "Epoch 43/99\n",
            "----------\n",
            "Loss : 0.001215024502016604, Training Accuracy: 1.0, Validation Accuracy: 0.6888888888888889\n",
            "Epoch 44/99\n",
            "----------\n",
            "Loss : 0.0011486585717648268, Training Accuracy: 1.0, Validation Accuracy: 0.6844444444444444\n",
            "Epoch 45/99\n",
            "----------\n",
            "Loss : 0.0013811655808240175, Training Accuracy: 1.0, Validation Accuracy: 0.6711111111111111\n",
            "Epoch 46/99\n",
            "----------\n",
            "Loss : 0.0011165880132466555, Training Accuracy: 1.0, Validation Accuracy: 0.6711111111111111\n",
            "Epoch 47/99\n",
            "----------\n",
            "Loss : 0.0010568525176495314, Training Accuracy: 1.0, Validation Accuracy: 0.6755555555555556\n",
            "Epoch 48/99\n",
            "----------\n",
            "Loss : 0.0009849451016634703, Training Accuracy: 1.0, Validation Accuracy: 0.6755555555555556\n",
            "Epoch 49/99\n",
            "----------\n",
            "Loss : 0.0010953827295452356, Training Accuracy: 1.0, Validation Accuracy: 0.68\n",
            "Epoch 50/99\n",
            "----------\n",
            "Loss : 0.00105042546056211, Training Accuracy: 1.0, Validation Accuracy: 0.6888888888888889\n",
            "Epoch 51/99\n",
            "----------\n",
            "Loss : 0.0009175532613880932, Training Accuracy: 1.0, Validation Accuracy: 0.6622222222222223\n",
            "Epoch 52/99\n",
            "----------\n",
            "Loss : 0.0008531869389116764, Training Accuracy: 1.0, Validation Accuracy: 0.7111111111111111\n",
            "Epoch 53/99\n",
            "----------\n",
            "Loss : 0.0007684671436436474, Training Accuracy: 1.0, Validation Accuracy: 0.6844444444444444\n",
            "Epoch 54/99\n",
            "----------\n",
            "Loss : 0.0009272793540731072, Training Accuracy: 1.0, Validation Accuracy: 0.7155555555555555\n",
            "Epoch 55/99\n",
            "----------\n",
            "Loss : 0.0010185183491557837, Training Accuracy: 1.0, Validation Accuracy: 0.6844444444444444\n",
            "Epoch 56/99\n",
            "----------\n",
            "Loss : 0.0007694088271819055, Training Accuracy: 1.0, Validation Accuracy: 0.68\n",
            "Epoch 57/99\n",
            "----------\n",
            "Loss : 0.0007130871526896954, Training Accuracy: 1.0, Validation Accuracy: 0.7466666666666667\n",
            "Epoch 58/99\n",
            "----------\n",
            "Loss : 0.000591521617025137, Training Accuracy: 1.0, Validation Accuracy: 0.7066666666666667\n",
            "Epoch 59/99\n",
            "----------\n",
            "Loss : 0.0007090761791914701, Training Accuracy: 1.0, Validation Accuracy: 0.72\n",
            "Epoch 60/99\n",
            "----------\n",
            "Loss : 0.0006287713767960668, Training Accuracy: 1.0, Validation Accuracy: 0.7244444444444444\n",
            "Epoch 61/99\n",
            "----------\n",
            "Loss : 0.0005965696764178574, Training Accuracy: 1.0, Validation Accuracy: 0.7244444444444444\n",
            "Epoch 62/99\n",
            "----------\n",
            "Loss : 0.0005356546025723219, Training Accuracy: 1.0, Validation Accuracy: 0.7155555555555555\n",
            "Epoch 63/99\n",
            "----------\n",
            "Loss : 0.0005224752821959555, Training Accuracy: 1.0, Validation Accuracy: 0.7244444444444444\n",
            "Epoch 64/99\n",
            "----------\n",
            "Loss : 0.0005656988359987736, Training Accuracy: 1.0, Validation Accuracy: 0.7333333333333333\n",
            "Epoch 65/99\n",
            "----------\n",
            "Loss : 0.0004989305161871016, Training Accuracy: 1.0, Validation Accuracy: 0.76\n",
            "Epoch 66/99\n",
            "----------\n",
            "Loss : 0.0004929968272335827, Training Accuracy: 1.0, Validation Accuracy: 0.7155555555555555\n",
            "Epoch 67/99\n",
            "----------\n",
            "Loss : 0.0004705125465989113, Training Accuracy: 1.0, Validation Accuracy: 0.7288888888888889\n",
            "Epoch 68/99\n",
            "----------\n",
            "Loss : 0.00046273466432467103, Training Accuracy: 1.0, Validation Accuracy: 0.72\n",
            "Epoch 69/99\n",
            "----------\n",
            "Loss : 0.0005171355442143977, Training Accuracy: 1.0, Validation Accuracy: 0.7511111111111111\n",
            "Epoch 70/99\n",
            "----------\n",
            "Loss : 0.0005019811796955764, Training Accuracy: 1.0, Validation Accuracy: 0.7155555555555555\n",
            "Epoch 71/99\n",
            "----------\n",
            "Loss : 0.00042170064989477396, Training Accuracy: 1.0, Validation Accuracy: 0.7066666666666667\n",
            "Epoch 72/99\n",
            "----------\n",
            "Loss : 0.0004033654695376754, Training Accuracy: 1.0, Validation Accuracy: 0.7422222222222222\n",
            "Epoch 73/99\n",
            "----------\n",
            "Loss : 0.0004468706320039928, Training Accuracy: 1.0, Validation Accuracy: 0.7288888888888889\n",
            "Epoch 74/99\n",
            "----------\n",
            "Loss : 0.000551496515981853, Training Accuracy: 1.0, Validation Accuracy: 0.7111111111111111\n",
            "Epoch 75/99\n",
            "----------\n",
            "Loss : 0.0006393244839273393, Training Accuracy: 1.0, Validation Accuracy: 0.6666666666666666\n",
            "Epoch 76/99\n",
            "----------\n",
            "Loss : 0.000638674886431545, Training Accuracy: 1.0, Validation Accuracy: 0.6533333333333333\n",
            "Epoch 77/99\n",
            "----------\n",
            "Loss : 0.0006361521081998944, Training Accuracy: 1.0, Validation Accuracy: 0.7111111111111111\n",
            "Epoch 78/99\n",
            "----------\n",
            "Loss : 0.0004648079629987478, Training Accuracy: 1.0, Validation Accuracy: 0.6177777777777778\n",
            "Epoch 79/99\n",
            "----------\n",
            "Loss : 0.0005113076767884195, Training Accuracy: 1.0, Validation Accuracy: 0.6533333333333333\n",
            "Epoch 80/99\n",
            "----------\n",
            "Loss : 0.00046362471766769886, Training Accuracy: 1.0, Validation Accuracy: 0.6888888888888889\n",
            "Epoch 81/99\n",
            "----------\n",
            "Loss : 0.00041024736128747463, Training Accuracy: 1.0, Validation Accuracy: 0.7377777777777778\n",
            "Epoch 82/99\n",
            "----------\n",
            "Loss : 0.00037135189631953835, Training Accuracy: 1.0, Validation Accuracy: 0.7422222222222222\n",
            "Epoch 83/99\n",
            "----------\n",
            "Loss : 0.0003144492511637509, Training Accuracy: 1.0, Validation Accuracy: 0.7377777777777778\n",
            "Epoch 84/99\n",
            "----------\n",
            "Loss : 0.00034661911195144057, Training Accuracy: 1.0, Validation Accuracy: 0.7644444444444445\n",
            "Epoch 85/99\n",
            "----------\n",
            "Loss : 0.000314163975417614, Training Accuracy: 1.0, Validation Accuracy: 0.7377777777777778\n",
            "Epoch 86/99\n",
            "----------\n",
            "Loss : 0.0003228501882404089, Training Accuracy: 1.0, Validation Accuracy: 0.7511111111111111\n",
            "Epoch 87/99\n",
            "----------\n",
            "Loss : 0.0003137419989798218, Training Accuracy: 1.0, Validation Accuracy: 0.7555555555555555\n",
            "Epoch 88/99\n",
            "----------\n",
            "Loss : 0.00029344717040657997, Training Accuracy: 1.0, Validation Accuracy: 0.7644444444444445\n",
            "Epoch 89/99\n",
            "----------\n",
            "Loss : 0.00031863481854088604, Training Accuracy: 1.0, Validation Accuracy: 0.7688888888888888\n",
            "Epoch 90/99\n",
            "----------\n",
            "Loss : 0.00028095772722736, Training Accuracy: 1.0, Validation Accuracy: 0.7422222222222222\n",
            "Epoch 91/99\n",
            "----------\n",
            "Loss : 0.00025889143580570817, Training Accuracy: 1.0, Validation Accuracy: 0.7555555555555555\n",
            "Epoch 92/99\n",
            "----------\n",
            "Loss : 0.0002764727105386555, Training Accuracy: 1.0, Validation Accuracy: 0.7377777777777778\n",
            "Epoch 93/99\n",
            "----------\n",
            "Loss : 0.0002500154951121658, Training Accuracy: 1.0, Validation Accuracy: 0.7733333333333333\n",
            "Epoch 94/99\n",
            "----------\n",
            "Loss : 0.00023125346342567354, Training Accuracy: 1.0, Validation Accuracy: 0.76\n",
            "Epoch 95/99\n",
            "----------\n",
            "Loss : 0.0002655280113685876, Training Accuracy: 1.0, Validation Accuracy: 0.76\n",
            "Epoch 96/99\n",
            "----------\n",
            "Loss : 0.00023254372354131192, Training Accuracy: 1.0, Validation Accuracy: 0.7688888888888888\n",
            "Epoch 97/99\n",
            "----------\n",
            "Loss : 0.0002307407557964325, Training Accuracy: 1.0, Validation Accuracy: 0.7688888888888888\n",
            "Epoch 98/99\n",
            "----------\n",
            "Loss : 0.00020844140090048313, Training Accuracy: 1.0, Validation Accuracy: 0.7777777777777778\n",
            "Epoch 99/99\n",
            "----------\n",
            "Loss : 0.0002113110531354323, Training Accuracy: 1.0, Validation Accuracy: 0.7733333333333333\n"
          ],
          "name": "stdout"
        },
        {
          "output_type": "stream",
          "text": [
            "/usr/local/lib/python3.6/dist-packages/ipykernel_launcher.py:72: RuntimeWarning: Second argument 'y1' is ambiguous: could be a color spec but is in data; using as data.  Either rename the entry in data or use three arguments to plot.\n",
            "/usr/local/lib/python3.6/dist-packages/ipykernel_launcher.py:73: RuntimeWarning: Second argument 'y2' is ambiguous: could be a color spec but is in data; using as data.  Either rename the entry in data or use three arguments to plot.\n"
          ],
          "name": "stderr"
        },
        {
          "output_type": "display_data",
          "data": {
            "image/png": "[encoded data removed]",
            "text/plain": [
              "<Figure size 432x288 with 1 Axes>"
            ]
          },
          "metadata": {
            "tags": []
          }
        }
      ]
    },
    {
      "cell_type": "code",
      "metadata": {
        "id": "meAnKxmX1dFh",
        "colab_type": "code",
        "outputId": "fbc7f9c9-6268-4ccd-ce55-831db6676fab",
        "colab": {
          "base_uri": "https://localhost:8080/",
          "height": 295
        }
      },
      "source": [
        "plt.title(\"Loss Chart\")\n",
        "plt.xlabel('Number of Epochs')\n",
        "plt.ylabel('Loss')\n",
        "plt.plot(loss_list)\n",
        "plt.show()\n",
        "# The graph below simply shows the final loss at the end of every epoch,\n",
        "# not the loss calculated every after every prediction in training and validation"
      ],
      "execution_count": 0,
      "outputs": [
        {
          "output_type": "display_data",
          "data": {
            "image/png": "[encoded data removed]",
            "text/plain": [
              "<Figure size 432x288 with 1 Axes>"
            ]
          },
          "metadata": {
            "tags": []
          }
        }
      ]
    },
    {
      "cell_type": "code",
      "metadata": {
        "id": "0E7bzdGfXPEX",
        "colab_type": "code",
        "outputId": "e4315681-6bcb-466c-f77c-3a44a480f29c",
        "colab": {
          "base_uri": "https://localhost:8080/",
          "height": 1000
        }
      },
      "source": [
        "model_ft.eval()"
      ],
      "execution_count": 0,
      "outputs": [
        {
          "output_type": "execute_result",
          "data": {
            "text/plain": [
              "ResNet(\n",
              "  (conv1): Conv2d(1, 64, kernel_size=(7, 7), stride=(2, 2), padding=(3, 3), bias=False)\n",
              "  (bn1): BatchNorm2d(64, eps=1e-05, momentum=0.1, affine=True, track_running_stats=True)\n",
              "  (relu): ReLU(inplace=True)\n",
              "  (maxpool): MaxPool2d(kernel_size=3, stride=2, padding=1, dilation=1, ceil_mode=False)\n",
              "  (layer1): Sequential(\n",
              "    (0): BasicBlock(\n",
              "      (conv1): Conv2d(64, 64, kernel_size=(3, 3), stride=(1, 1), padding=(1, 1), bias=False)\n",
              "      (bn1): BatchNorm2d(64, eps=1e-05, momentum=0.1, affine=True, track_running_stats=True)\n",
              "      (relu): ReLU(inplace=True)\n",
              "      (conv2): Conv2d(64, 64, kernel_size=(3, 3), stride=(1, 1), padding=(1, 1), bias=False)\n",
              "      (bn2): BatchNorm2d(64, eps=1e-05, momentum=0.1, affine=True, track_running_stats=True)\n",
              "    )\n",
              "    (1): BasicBlock(\n",
              "      (conv1): Conv2d(64, 64, kernel_size=(3, 3), stride=(1, 1), padding=(1, 1), bias=False)\n",
              "      (bn1): BatchNorm2d(64, eps=1e-05, momentum=0.1, affine=True, track_running_stats=True)\n",
              "      (relu): ReLU(inplace=True)\n",
              "      (conv2): Conv2d(64, 64, kernel_size=(3, 3), stride=(1, 1), padding=(1, 1), bias=False)\n",
              "      (bn2): BatchNorm2d(64, eps=1e-05, momentum=0.1, affine=True, track_running_stats=True)\n",
              "    )\n",
              "  )\n",
              "  (layer2): Sequential(\n",
              "    (0): BasicBlock(\n",
              "      (conv1): Conv2d(64, 128, kernel_size=(3, 3), stride=(2, 2), padding=(1, 1), bias=False)\n",
              "      (bn1): BatchNorm2d(128, eps=1e-05, momentum=0.1, affine=True, track_running_stats=True)\n",
              "      (relu): ReLU(inplace=True)\n",
              "      (conv2): Conv2d(128, 128, kernel_size=(3, 3), stride=(1, 1), padding=(1, 1), bias=False)\n",
              "      (bn2): BatchNorm2d(128, eps=1e-05, momentum=0.1, affine=True, track_running_stats=True)\n",
              "      (downsample): Sequential(\n",
              "        (0): Conv2d(64, 128, kernel_size=(1, 1), stride=(2, 2), bias=False)\n",
              "        (1): BatchNorm2d(128, eps=1e-05, momentum=0.1, affine=True, track_running_stats=True)\n",
              "      )\n",
              "    )\n",
              "    (1): BasicBlock(\n",
              "      (conv1): Conv2d(128, 128, kernel_size=(3, 3), stride=(1, 1), padding=(1, 1), bias=False)\n",
              "      (bn1): BatchNorm2d(128, eps=1e-05, momentum=0.1, affine=True, track_running_stats=True)\n",
              "      (relu): ReLU(inplace=True)\n",
              "      (conv2): Conv2d(128, 128, kernel_size=(3, 3), stride=(1, 1), padding=(1, 1), bias=False)\n",
              "      (bn2): BatchNorm2d(128, eps=1e-05, momentum=0.1, affine=True, track_running_stats=True)\n",
              "    )\n",
              "  )\n",
              "  (layer3): Sequential(\n",
              "    (0): BasicBlock(\n",
              "      (conv1): Conv2d(128, 256, kernel_size=(3, 3), stride=(2, 2), padding=(1, 1), bias=False)\n",
              "      (bn1): BatchNorm2d(256, eps=1e-05, momentum=0.1, affine=True, track_running_stats=True)\n",
              "      (relu): ReLU(inplace=True)\n",
              "      (conv2): Conv2d(256, 256, kernel_size=(3, 3), stride=(1, 1), padding=(1, 1), bias=False)\n",
              "      (bn2): BatchNorm2d(256, eps=1e-05, momentum=0.1, affine=True, track_running_stats=True)\n",
              "      (downsample): Sequential(\n",
              "        (0): Conv2d(128, 256, kernel_size=(1, 1), stride=(2, 2), bias=False)\n",
              "        (1): BatchNorm2d(256, eps=1e-05, momentum=0.1, affine=True, track_running_stats=True)\n",
              "      )\n",
              "    )\n",
              "    (1): BasicBlock(\n",
              "      (conv1): Conv2d(256, 256, kernel_size=(3, 3), stride=(1, 1), padding=(1, 1), bias=False)\n",
              "      (bn1): BatchNorm2d(256, eps=1e-05, momentum=0.1, affine=True, track_running_stats=True)\n",
              "      (relu): ReLU(inplace=True)\n",
              "      (conv2): Conv2d(256, 256, kernel_size=(3, 3), stride=(1, 1), padding=(1, 1), bias=False)\n",
              "      (bn2): BatchNorm2d(256, eps=1e-05, momentum=0.1, affine=True, track_running_stats=True)\n",
              "    )\n",
              "  )\n",
              "  (layer4): Sequential(\n",
              "    (0): BasicBlock(\n",
              "      (conv1): Conv2d(256, 512, kernel_size=(3, 3), stride=(2, 2), padding=(1, 1), bias=False)\n",
              "      (bn1): BatchNorm2d(512, eps=1e-05, momentum=0.1, affine=True, track_running_stats=True)\n",
              "      (relu): ReLU(inplace=True)\n",
              "      (conv2): Conv2d(512, 512, kernel_size=(3, 3), stride=(1, 1), padding=(1, 1), bias=False)\n",
              "      (bn2): BatchNorm2d(512, eps=1e-05, momentum=0.1, affine=True, track_running_stats=True)\n",
              "      (downsample): Sequential(\n",
              "        (0): Conv2d(256, 512, kernel_size=(1, 1), stride=(2, 2), bias=False)\n",
              "        (1): BatchNorm2d(512, eps=1e-05, momentum=0.1, affine=True, track_running_stats=True)\n",
              "      )\n",
              "    )\n",
              "    (1): BasicBlock(\n",
              "      (conv1): Conv2d(512, 512, kernel_size=(3, 3), stride=(1, 1), padding=(1, 1), bias=False)\n",
              "      (bn1): BatchNorm2d(512, eps=1e-05, momentum=0.1, affine=True, track_running_stats=True)\n",
              "      (relu): ReLU(inplace=True)\n",
              "      (conv2): Conv2d(512, 512, kernel_size=(3, 3), stride=(1, 1), padding=(1, 1), bias=False)\n",
              "      (bn2): BatchNorm2d(512, eps=1e-05, momentum=0.1, affine=True, track_running_stats=True)\n",
              "    )\n",
              "  )\n",
              "  (avgpool): AdaptiveAvgPool2d(output_size=(1, 1))\n",
              "  (fc): Linear(in_features=512, out_features=180, bias=True)\n",
              ")"
            ]
          },
          "metadata": {
            "tags": []
          },
          "execution_count": 12
        }
      ]
    },
    {
      "cell_type": "markdown",
      "metadata": {
        "id": "8eVddNNO2jf-",
        "colab_type": "text"
      },
      "source": [
        "## Testing the Trained Network\n",
        "\n",
        "Passing in the test data into the network that was previously hidden from the network to visualize results. "
      ]
    },
    {
      "cell_type": "code",
      "metadata": {
        "id": "geZj9mcTaX8x",
        "colab_type": "code",
        "outputId": "6bcd4927-bf2e-42a7-8b76-671cb8ea2cf9",
        "colab": {
          "base_uri": "https://localhost:8080/",
          "height": 1000
        }
      },
      "source": [
        "num_chars_correct = 0\n",
        "perfect_guess = 0\n",
        "for step, (img, label_oh, label) in enumerate(test_dl):\n",
        "    img = Variable(img).cuda()\n",
        "    pred = model(img).squeeze().cpu().tolist()\n",
        "    # print(len(pred.squeeze()))\n",
        "    c0 = categories[np.argmax(pred[0:len_chars])]\n",
        "    c1 = categories[np.argmax(pred[len_chars:len_chars*2])]\n",
        "    c2 = categories[np.argmax(pred[len_chars*2:len_chars*3])]\n",
        "    c3 = categories[np.argmax(pred[len_chars*3:len_chars*4])]\n",
        "    c4 = categories[np.argmax(pred[len_chars*4:len_chars*5])]\n",
        "    c = '%s%s%s%s%s' % (c0, c1, c2, c3, c4)\n",
        "    if c0 == label[0][0]:\n",
        "      num_chars_correct += 1\n",
        "    if c1 == label[0][1]:\n",
        "      num_chars_correct += 1\n",
        "    if c2 == label[0][2]:\n",
        "      num_chars_correct += 1\n",
        "    if c3 == label[0][3]:\n",
        "      num_chars_correct += 1\n",
        "    if c4 == label[0][4]:\n",
        "      num_chars_correct += 1\n",
        "    if c0 == label[0][0] and c1 == label[0][1] and c2 == label[0][2] and c3 == label[0][3] and c4 == label[0][4]:\n",
        "      perfect_guess += 1\n",
        "    print('label:', label[0], 'pred:', c)"
      ],
      "execution_count": 0,
      "outputs": [
        {
          "output_type": "stream",
          "text": [
            "label: 4ycex pred: 4yccx\n",
            "label: 7pcd7 pred: 7pcd7\n",
            "label: 6p7gx pred: 6p7gx\n",
            "label: 3n7mx pred: 3n7nx\n",
            "label: c6f8g pred: c6f8g\n",
            "label: 2npg6 pred: 2npg6\n",
            "label: 8npe3 pred: 8npe3\n",
            "label: 573bn pred: 573bn\n",
            "label: y32yy pred: y32yy\n",
            "label: 42xpy pred: 42xpy\n",
            "label: 4b2pw pred: 4b2pw\n",
            "label: pdcp4 pred: pdcp4\n",
            "label: 3ygde pred: 3ygde\n",
            "label: 6n6gg pred: 6n6gg\n",
            "label: bc8nf pred: bc8nf\n",
            "label: gcx6f pred: gce6f\n",
            "label: nnfx3 pred: nnfx3\n",
            "label: f74x3 pred: f78x3\n",
            "label: x4pnp pred: x4pnp\n",
            "label: 3p67n pred: 3p67n\n",
            "label: p2dw7 pred: p2dw7\n",
            "label: xxbm5 pred: xxbm5\n",
            "label: w4x2m pred: w48cm\n",
            "label: mfb3x pred: mfb3x\n",
            "label: ncw4g pred: ncw4g\n",
            "label: 5fyem pred: 5fyem\n",
            "label: gm6nn pred: gm6nn\n",
            "label: 37ep6 pred: 37ep6\n",
            "label: 325fb pred: 325fb\n",
            "label: fbp2c pred: fbp22\n",
            "label: cdcb3 pred: edcb3\n",
            "label: 5n245 pred: 5n245\n",
            "label: mc35n pred: mcc5n\n",
            "label: 4dw3w pred: 4dw3w\n",
            "label: mp7wp pred: mmxwp\n",
            "label: fg7mg pred: fg7ng\n",
            "label: pg2pm pred: pggpm\n",
            "label: 63pxe pred: 63pxe\n",
            "label: yd755 pred: yd755\n",
            "label: 6ecbn pred: 6ecbn\n",
            "label: gc83b pred: gc83b\n",
            "label: 675p3 pred: 675p3\n",
            "label: x347n pred: x347n\n",
            "label: ddnpf pred: ddnpf\n",
            "label: 728n8 pred: 728n8\n",
            "label: x76mn pred: x76mn\n",
            "label: yw7ny pred: yw7ny\n",
            "label: 33p4e pred: 33p4e\n",
            "label: gnbn4 pred: gnbn4\n",
            "label: cndmc pred: endnc\n",
            "label: wd2gb pred: wd2gb\n",
            "label: nd5wg pred: nd5wg\n",
            "label: 32cnn pred: 32cnn\n",
            "label: 7bwm2 pred: 7bwm2\n",
            "label: f4fn2 pred: f4fn2\n",
            "label: 6f2yc pred: 6f2yc\n",
            "label: 8pfxx pred: 8pfxx\n",
            "label: w46ep pred: w46ep\n",
            "label: cnwyc pred: cnwyc\n",
            "label: wecfd pred: wecfd\n",
            "label: 77n6g pred: 77m6g\n",
            "label: c353e pred: c35ee\n",
            "label: bbymy pred: bbyny\n",
            "label: gp7c5 pred: gp765\n",
            "label: 3n3cf pred: 3n33f\n",
            "label: wwmn6 pred: wwnm6\n",
            "label: wb3ed pred: wbecd\n",
            "label: x74b2 pred: x74b2\n",
            "label: efg72 pred: efg72\n",
            "label: cy3nw pred: cy3nw\n",
            "label: g888x pred: g888x\n",
            "label: x3fwf pred: x3fwf\n",
            "label: pm47f pred: pm47f\n",
            "label: ppx77 pred: ppx77\n",
            "label: bn5mw pred: bn5mw\n",
            "label: fywb8 pred: fywb8\n",
            "label: yeyn4 pred: yeyn4\n",
            "label: f8f8g pred: f8f8g\n",
            "label: 8n62n pred: 8n62n\n",
            "label: b35f6 pred: b35f6\n",
            "label: 662bw pred: 662bw\n",
            "label: y5g87 pred: y5g87\n",
            "label: n5w5g pred: n5w5g\n",
            "label: 8n34n pred: 8n34n\n",
            "label: 6f857 pred: 6f857\n",
            "label: e25xg pred: e25xg\n",
            "label: 53mn8 pred: 53mn8\n",
            "label: 7m8px pred: 7n3px\n",
            "label: 44c22 pred: 44c22\n",
            "label: f7cey pred: f7cey\n",
            "label: fy2nd pred: fy2nd\n",
            "label: y866y pred: y866y\n",
            "label: dmxp8 pred: dmxp8\n",
            "label: nb45d pred: nb45d\n",
            "label: w4nfx pred: w4nfx\n",
            "label: gxxpf pred: gxxpf\n"
          ],
          "name": "stdout"
        }
      ]
    },
    {
      "cell_type": "code",
      "metadata": {
        "id": "WpRD44LkaezD",
        "colab_type": "code",
        "outputId": "023619a5-4dc2-4bf1-94bc-3475a119c3bc",
        "colab": {
          "base_uri": "https://localhost:8080/",
          "height": 51
        }
      },
      "source": [
        "print(num_chars_correct/(len(test_idx)*5))\n",
        "print(perfect_guess/(len(test_idx)))"
      ],
      "execution_count": 0,
      "outputs": [
        {
          "output_type": "stream",
          "text": [
            "0.9458333333333333\n",
            "0.7916666666666666\n"
          ],
          "name": "stdout"
        }
      ]
    },
    {
      "cell_type": "markdown",
      "metadata": {
        "id": "VmfPXk9sqZnF",
        "colab_type": "text"
      },
      "source": [
        "## Final Notes ##\n",
        "Given the small dataset, our model did a great job in predicting categories correct, with 94.58% of the characters in the test set correctly predicted"
      ]
    }
  ]
}